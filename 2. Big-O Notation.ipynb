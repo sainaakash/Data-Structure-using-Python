{
 "cells": [
  {
   "cell_type": "markdown",
   "metadata": {},
   "source": [
    "__Types of Asymptotic Notation and representation of Time Complexity of Algorithm:__\n",
    "\n",
    "    - theta, θ-notation : asymptotic \"equality\" (same rate)\n",
    "              C1 * g(n) <= f(n) <= C2 * g(n)\n",
    "    - big oh, O-notation : asymptotic \"less rate\" (slower rate) \n",
    "              f(n) <= c * g(n)\n",
    "    - omega, Ω-notation : asymptotic \"faster rate\" (faster rate)\n",
    "              f(n) >= C * g(n)"
   ]
  },
  {
   "cell_type": "markdown",
   "metadata": {},
   "source": [
    "> Although, most commonly used notation is big oh notation (O-notation). So, that's what is being discussed below. "
   ]
  },
  {
   "cell_type": "code",
   "execution_count": 13,
   "metadata": {},
   "outputs": [],
   "source": [
    "def sum1(n):\n",
    "    final_sum = 0\n",
    "    \n",
    "    for x in range(n+1):\n",
    "        final_sum += x\n",
    "        \n",
    "    return final_sum"
   ]
  },
  {
   "cell_type": "code",
   "execution_count": 14,
   "metadata": {},
   "outputs": [],
   "source": [
    "def sum2(n):\n",
    "    return(n*(n+1))/2"
   ]
  },
  {
   "cell_type": "markdown",
   "metadata": {},
   "source": [
    "- To develop a notation to objectively compare the efficiency of these two algorithms. We can compare the number of assignments each algorithm makes.\n",
    "\n",
    "- The original sum1 function will create an assignment n+1 times, we can see this from the range based function. This means it will assign the final_sum variable n+1 times. Hence, we can say it is taking n+1 steps. \n",
    "\n",
    "- This n notation allows us to compare solutions and algorithms relative to the size of the problem, since sum1(10) and sum1(100000) would take very different times to run but be using the same algorithm. We can also note that as n grows very large, the +1 won't have much effect.\n",
    "\n",
    "> Hence, its runtime grows linearly with input size i.e. O(n)."
   ]
  },
  {
   "cell_type": "markdown",
   "metadata": {},
   "source": [
    "> Big-O notation describes how quickly runtime will grow relative to the input as the input get arbitrarily large."
   ]
  },
  {
   "cell_type": "markdown",
   "metadata": {},
   "source": [
    "# Some of the common Big-O Functions:"
   ]
  },
  {
   "cell_type": "markdown",
   "metadata": {},
   "source": [
    "__O(1) - Constant:__\n",
    "\n",
    "    - Accessing Array Index (int a = ARR[5];)\n",
    "    - Inserting a node in Linked List\n",
    "    - Pushing and Poping on Stack\n",
    "    - Insertion and Removal from Queue\n",
    "    - Finding out the parent or left/right child of a node in a tree stored in Array\n",
    "    - Jumping to Next/Previous element in Doubly Linked List\n",
    "    \n",
    "    - e.g. <br>\n",
    "        sum(A[], n){                 \n",
    "            s = 0;                         \n",
    "            for(i = 0; i < n; i++)    \n",
    "                s = s + A[i];        \n",
    "            return s;                   \n",
    "        }"
   ]
  },
  {
   "cell_type": "markdown",
   "metadata": {},
   "source": [
    "__O(log n) - Loagarithmic:__\n",
    "    \n",
    "    - Binary Search\n",
    "    - Finding largest/smallest number in a binary search tree\n",
    "    - Certain Divide and Conquer Algorithms based on Linear functionality\n",
    "    - Calculating Fibonacci Numbers\n",
    "    \n",
    "    - e.g.\n",
    "        1. for(i = 1; i < n; i = i * 2)\n",
    "           {\n",
    "               stmt;\n",
    "           }\n",
    "                \n",
    "        2. for(i = n; i >= 1; i = i / 2)\n",
    "           {\n",
    "               stmt;\n",
    "           } \n",
    "           \n",
    "        3.  i = n;\n",
    "            while(i > 1){\n",
    "                stmt;\n",
    "                i = i / 2;\n",
    "            }"
   ]
  },
  {
   "cell_type": "markdown",
   "metadata": {},
   "source": [
    "__O(n) - Linear:__ \n",
    "\n",
    "    - Traversing an array\n",
    "    - Traversing a linked list\n",
    "    - Linear Search\n",
    "    - Deletion of a specific element in a Linked List (Not sorted)\n",
    "    - Comparing two strings\n",
    "    - Checking for Palindrome\n",
    "    - Counting/Bucket Sort\n",
    "    \n",
    "    - e.g.\n",
    "        sum(A[], B[]){                                          \n",
    "            for(i = 0; i < n; i++){      \n",
    "                for(j = 0; j < n; j++)   \n",
    "                C[i,j] = A[i,j] + B[i,j];\n",
    "            }                   \n",
    "        }"
   ]
  },
  {
   "cell_type": "markdown",
   "metadata": {},
   "source": [
    "__O(n log n) - Log Linear:__\n",
    "\n",
    "    - Merge Sort\n",
    "    - Heap Sort\n",
    "    - Quick Sort\n",
    "    "
   ]
  },
  {
   "cell_type": "markdown",
   "metadata": {},
   "source": [
    "__O(n ^ 2) - Quadratic:__ \n",
    "       \n",
    "    - Bubble Sort\n",
    "    - Insertion Sort\n",
    "    - Selection Sort\n",
    "    - Traversing a simple 2D array\n",
    "    \n",
    "    - e.g. \n",
    "        for(i = 0; i < n; i++)\n",
    "        {\n",
    "            for(j = 1; j < n; j = j * 2)\n",
    "            {\n",
    "                stmt;\n",
    "            }\n",
    "        }    "
   ]
  },
  {
   "cell_type": "markdown",
   "metadata": {},
   "source": [
    "__O(n ^ 3) - Cubic:__\n",
    "    \n",
    "    - e.g. \n",
    "        sum(A[], B[]){                                          \n",
    "            for(i = 0; i < n; i++){      \n",
    "                for(j = 0; j < n; j++){\n",
    "                    C[i,j] = 0;\n",
    "                    for(k = 0; k < n; k++)\n",
    "                        C[i,j] = A[i,j] + B[i,j];\n",
    "                }       \n",
    "            }                   \n",
    "        }"
   ]
  },
  {
   "cell_type": "markdown",
   "metadata": {},
   "source": [
    "# Order of Time Complexity:\n",
    "\n",
    "__1 < log n < n < n log n < n ^ 2 < n ^ 3 < . . . < 2 ^ n < . . . < n ^ n__"
   ]
  },
  {
   "cell_type": "code",
   "execution_count": null,
   "metadata": {},
   "outputs": [],
   "source": []
  }
 ],
 "metadata": {
  "kernelspec": {
   "display_name": "Python 3",
   "language": "python",
   "name": "python3"
  },
  "language_info": {
   "codemirror_mode": {
    "name": "ipython",
    "version": 3
   },
   "file_extension": ".py",
   "mimetype": "text/x-python",
   "name": "python",
   "nbconvert_exporter": "python",
   "pygments_lexer": "ipython3",
   "version": "3.7.6"
  }
 },
 "nbformat": 4,
 "nbformat_minor": 4
}
