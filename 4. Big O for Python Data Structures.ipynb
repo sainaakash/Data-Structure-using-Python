{
 "cells": [
  {
   "cell_type": "markdown",
   "metadata": {},
   "source": [
    "# List\n",
    "\n",
    "In Python lists act as dynamic arrays. And two common operations performed on lists are indexing and assigning to an index position. Both of these operations have a constant execution time i.e., O(1)."
   ]
  },
  {
   "cell_type": "code",
   "execution_count": 1,
   "metadata": {},
   "outputs": [],
   "source": [
    "def m1():\n",
    "    l = []\n",
    "    for x in range(10000):\n",
    "        l = l + [x]\n",
    "\n",
    "def m2():\n",
    "    l = []\n",
    "    for x in range(10000):\n",
    "        l.append(x)\n",
    "        \n",
    "def m3():\n",
    "    l = [x for x in range(10000)]\n",
    "    \n",
    "def m4():\n",
    "    l = range(10000)"
   ]
  },
  {
   "cell_type": "code",
   "execution_count": 3,
   "metadata": {},
   "outputs": [
    {
     "name": "stdout",
     "output_type": "stream",
     "text": [
      "424 ms ± 36.9 ms per loop (mean ± std. dev. of 7 runs, 1 loop each)\n",
      "1.67 ms ± 8.48 µs per loop (mean ± std. dev. of 7 runs, 1000 loops each)\n",
      "811 µs ± 4.62 µs per loop (mean ± std. dev. of 7 runs, 1000 loops each)\n",
      "746 ns ± 3.31 ns per loop (mean ± std. dev. of 7 runs, 1000000 loops each)\n"
     ]
    }
   ],
   "source": [
    "%timeit m1()\n",
    "%timeit m2()\n",
    "%timeit m3()\n",
    "%timeit m4()"
   ]
  },
  {
   "cell_type": "markdown",
   "metadata": {},
   "source": [
    "And we can see here the bulit-in range() fucntion in Python is the fastest. Hence, it is the most efficient choice to used while writing code."
   ]
  },
  {
   "cell_type": "markdown",
   "metadata": {},
   "source": [
    "<h3>Big-O for List operations:</h3>\n",
    "<table style=\"center\">\n",
    "  <tr>\n",
    "    <th>Operations</th>\n",
    "    <th>Time Complexities</th>\n",
    "  </tr>\n",
    "  <tr>\n",
    "    <td>index[]</td>\n",
    "    <td>O(1)</td>\n",
    "  </tr>\n",
    "  <tr>\n",
    "    <td>append</td>\n",
    "    <td>O(1)</td>\n",
    "  </tr>\n",
    "    <tr>\n",
    "    <td>pop(n)</td>\n",
    "    <td>O(n)</td>\n",
    "  </tr>\n",
    "    <tr>\n",
    "    <td>reverse</td>\n",
    "    <td>O(n)</td>\n",
    "  </tr><tr>\n",
    "    <td>concatenate</td>\n",
    "    <td>O(k)</td>\n",
    "  </tr>\n",
    "    <tr>\n",
    "    <td>sort</td>\n",
    "    <td>O(n log n)</td>\n",
    "  </tr>\n",
    "</table>"
   ]
  },
  {
   "cell_type": "markdown",
   "metadata": {},
   "source": [
    "# Dictionaries\n",
    "\n",
    "They are similar to the implementation of a hash table. They have key and value pair."
   ]
  },
  {
   "cell_type": "code",
   "execution_count": 4,
   "metadata": {},
   "outputs": [
    {
     "data": {
      "text/plain": [
       "1"
      ]
     },
     "execution_count": 4,
     "metadata": {},
     "output_type": "execute_result"
    }
   ],
   "source": [
    "d = {'k1':1, 'k2':2}\n",
    "d ['k1']"
   ]
  },
  {
   "cell_type": "markdown",
   "metadata": {},
   "source": [
    "Hence, they are efficient to use. Because hash tables have O(1) in deleting item, retrieval of item.\n",
    "Although, traversing through a dictionary is O(n)."
   ]
  },
  {
   "cell_type": "code",
   "execution_count": null,
   "metadata": {},
   "outputs": [],
   "source": []
  }
 ],
 "metadata": {
  "kernelspec": {
   "display_name": "Python 3",
   "language": "python",
   "name": "python3"
  },
  "language_info": {
   "codemirror_mode": {
    "name": "ipython",
    "version": 3
   },
   "file_extension": ".py",
   "mimetype": "text/x-python",
   "name": "python",
   "nbconvert_exporter": "python",
   "pygments_lexer": "ipython3",
   "version": "3.7.6"
  }
 },
 "nbformat": 4,
 "nbformat_minor": 4
}
